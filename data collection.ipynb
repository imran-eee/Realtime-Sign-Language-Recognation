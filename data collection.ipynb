{
 "cells": [
  {
   "cell_type": "code",
   "execution_count": 2,
   "id": "c80b6624",
   "metadata": {},
   "outputs": [],
   "source": [
    "import cv2\n",
    "from cvzone.HandTrackingModule import HandDetector\n",
    "import numpy as np\n",
    "import math\n",
    "import time\n",
    "import pickle"
   ]
  },
  {
   "cell_type": "code",
   "execution_count": 3,
   "id": "4a7c5af5",
   "metadata": {},
   "outputs": [
    {
     "name": "stdout",
     "output_type": "stream",
     "text": [
      "Error: cropped image is empty!\n",
      "1\n",
      "2\n",
      "3\n"
     ]
    }
   ],
   "source": [
    "\n",
    " \n",
    "cap = cv2.VideoCapture(0)\n",
    "detector = HandDetector(maxHands=1)\n",
    " \n",
    "offset = 20\n",
    "imgSize = 300\n",
    " \n",
    "folder = \"Data_sign\\call me\"\n",
    "counter = 0\n",
    "hand_tracking_data=[]\n",
    " \n",
    "while True:\n",
    "    success, img = cap.read()\n",
    "    if not success:\n",
    "        print(\"Failed to capture frame from camera!\")\n",
    "        break\n",
    "    hands, img = detector.findHands(img)\n",
    "    if hands:\n",
    "        hand = hands[0]\n",
    "        x, y, w, h = hand['bbox']\n",
    " \n",
    "        imgWhite = np.ones((imgSize, imgSize, 3), np.uint8) * 255\n",
    "        imgCrop = img[y - offset:y + h + offset, x - offset:x + w + offset]\n",
    " \n",
    "        if imgCrop.size == 0:\n",
    "            print(\"Error: cropped image is empty!\")\n",
    "            continue\n",
    " \n",
    "        imgCropShape = imgCrop.shape\n",
    " \n",
    "        aspectRatio = h / w\n",
    " \n",
    "        if aspectRatio > 1:\n",
    "            k = imgSize / h\n",
    "            wCal = math.ceil(k * w)\n",
    "            try:\n",
    "                imgResize = cv2.resize(imgCrop, (wCal, imgSize))\n",
    "            except Exception as e:\n",
    "                print(\"Error occurred when resizing image:\", e)\n",
    "                continue\n",
    "            imgResizeShape = imgResize.shape\n",
    "            wGap = math.ceil((imgSize - wCal) / 2)\n",
    "            imgWhite[:, wGap:wCal + wGap] = imgResize\n",
    " \n",
    "        else:\n",
    "            k = imgSize / w\n",
    "            hCal = math.ceil(k * h)\n",
    "            try:\n",
    "                imgResize = cv2.resize(imgCrop, (imgSize, hCal))\n",
    "            except Exception as e:\n",
    "                print(\"Error occurred when resizing image:\", e)\n",
    "                continue\n",
    "            imgResizeShape = imgResize.shape\n",
    "            hGap = math.ceil((imgSize - hCal) / 2)\n",
    "            imgWhite[hGap:hCal + hGap, :] = imgResize\n",
    "        hand_tracking_data.append(hand['lmList'])\n",
    " \n",
    "\n",
    "        cv2.imshow(\"ImageWhite\", imgWhite)\n",
    " \n",
    "\n",
    "    key = cv2.waitKey(1)\n",
    "    if key == ord(\"s\"):\n",
    "        counter += 1\n",
    "        image_file_path=f'{folder}/Image_{time.time()}.jpg'\n",
    "        hand_tracking_file_path=f'{folder}/HandTrackingData_{time.time()}.pkl'\n",
    "        with open(hand_tracking_file_path,'wb') as f:\n",
    "            pickle.dump(hand_tracking_data,f)\n",
    "        hand_tracking_data=[]\n",
    "        \n",
    "        cv2.imwrite(image_file_path,imgWhite)\n",
    "        print(counter)\n",
    "    elif key  & 0xFF == ord(\"q\"):\n",
    "         break\n",
    "   \n",
    "cap.release()\n",
    "cv2.destroyAllWindows()\n"
   ]
  },
  {
   "cell_type": "code",
   "execution_count": null,
   "id": "5da76e08",
   "metadata": {},
   "outputs": [],
   "source": []
  }
 ],
 "metadata": {
  "kernelspec": {
   "display_name": "Python 3 (ipykernel)",
   "language": "python",
   "name": "python3"
  },
  "language_info": {
   "codemirror_mode": {
    "name": "ipython",
    "version": 3
   },
   "file_extension": ".py",
   "mimetype": "text/x-python",
   "name": "python",
   "nbconvert_exporter": "python",
   "pygments_lexer": "ipython3",
   "version": "3.9.12"
  }
 },
 "nbformat": 4,
 "nbformat_minor": 5
}
